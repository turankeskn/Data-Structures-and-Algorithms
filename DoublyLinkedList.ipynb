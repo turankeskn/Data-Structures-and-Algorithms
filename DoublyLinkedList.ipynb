{
 "cells": [
  {
   "cell_type": "code",
   "execution_count": 1,
   "metadata": {},
   "outputs": [],
   "source": [
    "class doublyLinkedListNode(object):\n",
    "    \n",
    "    def __init__(self,value):\n",
    "        \n",
    "        self.value = value\n",
    "        self.nextnode = None\n",
    "        self.prevnode = None\n",
    "        \n",
    "    def setNextNode(self,node):\n",
    "        \n",
    "        self.nextnode = node\n",
    "        \n",
    "    def setPrevNode(self,node):\n",
    "        \n",
    "        self.prevnode = node\n",
    "        \n",
    "    def getNextNode(self):\n",
    "        \n",
    "        return self.nextnode\n",
    "    \n",
    "    def getPrevNode(self):\n",
    "        \n",
    "        return self.prevnode\n",
    "\n",
    "    def getNodeValue(self):\n",
    "        \n",
    "        return self.value\n"
   ]
  },
  {
   "cell_type": "code",
   "execution_count": 2,
   "metadata": {},
   "outputs": [],
   "source": [
    "ankara = doublyLinkedListNode(\"06\")\n",
    "bolu = doublyLinkedListNode(\"14\")\n",
    "istanbul = doublyLinkedListNode(\"34\")"
   ]
  },
  {
   "cell_type": "code",
   "execution_count": 4,
   "metadata": {},
   "outputs": [
    {
     "name": "stdout",
     "output_type": "stream",
     "text": [
      "14\n",
      "34\n"
     ]
    }
   ],
   "source": [
    "#ankara => bolu\n",
    "ankara.setNextNode(bolu)\n",
    "#bolu => ankara\n",
    "bolu.setPrevNode(istanbul)\n",
    "print(ankara.getNextNode().getNodeValue())\n",
    "print(bolu.getPrevNode().getNodeValue())"
   ]
  },
  {
   "cell_type": "code",
   "execution_count": null,
   "metadata": {},
   "outputs": [],
   "source": []
  }
 ],
 "metadata": {
  "kernelspec": {
   "display_name": "Python 3",
   "language": "python",
   "name": "python3"
  },
  "language_info": {
   "codemirror_mode": {
    "name": "ipython",
    "version": 3
   },
   "file_extension": ".py",
   "mimetype": "text/x-python",
   "name": "python",
   "nbconvert_exporter": "python",
   "pygments_lexer": "ipython3",
   "version": "3.7.6"
  }
 },
 "nbformat": 4,
 "nbformat_minor": 4
}
