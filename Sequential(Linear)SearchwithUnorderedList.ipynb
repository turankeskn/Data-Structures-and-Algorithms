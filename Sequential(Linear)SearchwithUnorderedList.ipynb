{
 "cells": [
  {
   "cell_type": "code",
   "execution_count": 1,
   "metadata": {},
   "outputs": [],
   "source": [
    "def SequantialSearchUnorderedList(liste,value):\n",
    "    \n",
    "    index = 0\n",
    "    found = False\n",
    "    \n",
    "    while index < len(liste) and not found:\n",
    "        \n",
    "        if liste[index] == value:\n",
    "            found = True\n",
    "        else:\n",
    "            index += 1\n",
    "    return (found,index)"
   ]
  },
  {
   "cell_type": "code",
   "execution_count": 4,
   "metadata": {},
   "outputs": [
    {
     "name": "stdout",
     "output_type": "stream",
     "text": [
      "False\n",
      "8\n"
     ]
    }
   ],
   "source": [
    "liste = [5,7,2,3,15,8,100,12]\n",
    "\n",
    "found, index = SequantialSearchUnorderedList(liste,11)\n",
    "print(found)\n",
    "print(index)"
   ]
  }
 ],
 "metadata": {
  "kernelspec": {
   "display_name": "Python 3.10.1 64-bit",
   "language": "python",
   "name": "python3"
  },
  "language_info": {
   "codemirror_mode": {
    "name": "ipython",
    "version": 3
   },
   "file_extension": ".py",
   "mimetype": "text/x-python",
   "name": "python",
   "nbconvert_exporter": "python",
   "pygments_lexer": "ipython3",
   "version": "3.10.1"
  },
  "vscode": {
   "interpreter": {
    "hash": "2accaec79680b62f2494b0ff1106ad30535df716b1791270a124178bc68c9159"
   }
  }
 },
 "nbformat": 4,
 "nbformat_minor": 4
}
