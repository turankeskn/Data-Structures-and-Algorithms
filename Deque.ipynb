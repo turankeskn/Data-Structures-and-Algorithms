{
 "cells": [
  {
   "cell_type": "code",
   "execution_count": 4,
   "metadata": {},
   "outputs": [],
   "source": [
    "class Deque:\n",
    "    def __init__(self):\n",
    "        \"\"\"\n",
    "        initialize\n",
    "        \"\"\"\n",
    "        self.items = []\n",
    "    \n",
    "    def isEmpty(self):\n",
    "        \n",
    "        return self.items == []\n",
    "        \n",
    "    def addFront(self,item):\n",
    "        \"\"\"\n",
    "        Fronttan veri ekler\n",
    "        \"\"\"\n",
    "        \n",
    "        self.items.append(item)\n",
    "    \n",
    "    def addRear(self,item):\n",
    "        \"\"\"\n",
    "        Reardan veri ekler\n",
    "        \"\"\"\n",
    "        self.items.insert(0,item)\n",
    "    \n",
    "    def removeFront(self):\n",
    "        \"\"\"\n",
    "        Fronttan veri cıkartır\n",
    "        \"\"\"\n",
    "        return self.items.pop()\n",
    "        \n",
    "    def removeRear(self):\n",
    "        return self.items.pop(0)\n",
    "    \n",
    "    def size(self):\n",
    "        \n",
    "        return len(self.items)"
   ]
  },
  {
   "cell_type": "code",
   "execution_count": 7,
   "metadata": {},
   "outputs": [
    {
     "name": "stdout",
     "output_type": "stream",
     "text": [
      "True\n",
      "False\n",
      "False\n",
      "2\n",
      "1\n",
      "0\n"
     ]
    }
   ],
   "source": [
    "deque = Deque()\n",
    "\n",
    "print(deque.isEmpty())\n",
    "\n",
    "deque.addFront(\"turan\")\n",
    "print(deque.isEmpty())\n",
    "\n",
    "deque.addRear(\"keskin\")\n",
    "print(deque.isEmpty())\n",
    "\n",
    "print(deque.size())\n",
    "\n",
    "deque.removeRear()\n",
    "print(deque.size())\n",
    "\n",
    "deque.removeFront()\n",
    "print(deque.size())\n"
   ]
  }
 ],
 "metadata": {
  "kernelspec": {
   "display_name": "Python 3.10.1 64-bit",
   "language": "python",
   "name": "python3"
  },
  "language_info": {
   "codemirror_mode": {
    "name": "ipython",
    "version": 3
   },
   "file_extension": ".py",
   "mimetype": "text/x-python",
   "name": "python",
   "nbconvert_exporter": "python",
   "pygments_lexer": "ipython3",
   "version": "3.10.1"
  },
  "vscode": {
   "interpreter": {
    "hash": "2accaec79680b62f2494b0ff1106ad30535df716b1791270a124178bc68c9159"
   }
  }
 },
 "nbformat": 4,
 "nbformat_minor": 4
}
