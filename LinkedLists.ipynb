{
 "cells": [
  {
   "cell_type": "code",
   "execution_count": 3,
   "metadata": {},
   "outputs": [],
   "source": [
    "class Node(object):\n",
    "    \n",
    "    def __init__(self,value):\n",
    "        \n",
    "        self.value = value\n",
    "        self.nextnode = None\n",
    "    \n",
    "    def setNextNode(self,node):\n",
    "        \"\"\"\n",
    "        Next nodun ne oldugunu set eder.\n",
    "        \"\"\"\n",
    "        self.nextnode = node\n",
    "        \n",
    "    def getNextNode(self):\n",
    "        \"\"\"\n",
    "        Bir sonraki node'u return eder.\n",
    "        \"\"\"\n",
    "        return self.nextnode\n",
    "    \n",
    "    def getNodeValue(self):\n",
    "        \"\"\"\n",
    "        node içerisinden depolanan degeri return eder.\n",
    "        \"\"\"\n",
    "        return self.value"
   ]
  },
  {
   "cell_type": "code",
   "execution_count": 4,
   "metadata": {},
   "outputs": [],
   "source": [
    "ankara = Node(\"06\")\n",
    "bolu = Node(\"14\")\n",
    "istanbul = Node(\"34\")"
   ]
  },
  {
   "cell_type": "code",
   "execution_count": 5,
   "metadata": {},
   "outputs": [
    {
     "name": "stdout",
     "output_type": "stream",
     "text": [
      "14\n"
     ]
    }
   ],
   "source": [
    "ankara.setNextNode(bolu)\n",
    "print(ankara.getNextNode().getNodeValue())"
   ]
  },
  {
   "cell_type": "code",
   "execution_count": 6,
   "metadata": {},
   "outputs": [
    {
     "name": "stdout",
     "output_type": "stream",
     "text": [
      "34\n"
     ]
    }
   ],
   "source": [
    "bolu.setNextNode(istanbul)\n",
    "print(bolu.getNextNode().getNodeValue())"
   ]
  },
  {
   "cell_type": "markdown",
   "metadata": {},
   "source": [
    "## Linked List'in Başına Node Eklemek"
   ]
  },
  {
   "cell_type": "code",
   "execution_count": 7,
   "metadata": {},
   "outputs": [],
   "source": [
    "class Node:\n",
    "    \n",
    "    def __init__(self,data):\n",
    "        \n",
    "        self.data = data\n",
    "        self.next = None"
   ]
  },
  {
   "cell_type": "code",
   "execution_count": 8,
   "metadata": {},
   "outputs": [],
   "source": [
    "class LinkedList:\n",
    "    \n",
    "    def __init__(self):\n",
    "        \"\"\"\n",
    "        Head initializer\n",
    "        \"\"\"\n",
    "        self.head = None\n",
    "        \n",
    "    def push(self,new_data):\n",
    "        \"\"\"\n",
    "        Linkedlistin basına node ekler.\n",
    "        \"\"\"\n",
    "        # node yarat ve içerisindeki veriyi belirle\n",
    "        new_node = Node(new_data)\n",
    "        # Yeni node kendisinden sonraki nodeyi işaret etsin.\n",
    "        new_node.next = self.head\n",
    "        # Head yeni nodeyi işaret etsin\n",
    "        self.head = new_node\n",
    "        \n",
    "    def printLinkedList(self):\n",
    "        \n",
    "        temp = self.head\n",
    "        print(\"Linked List :\")\n",
    "        while temp:\n",
    "            print(temp.data)\n",
    "            temp = temp.next\n",
    "        "
   ]
  },
  {
   "cell_type": "code",
   "execution_count": 22,
   "metadata": {},
   "outputs": [
    {
     "name": "stdout",
     "output_type": "stream",
     "text": [
      "Linked List :\n",
      "head\n",
      "25\n",
      "15\n",
      "15\n",
      "tail\n"
     ]
    }
   ],
   "source": [
    "linked_list = LinkedList()\n",
    "linked_list.push(\"tail\")\n",
    "linked_list.push(15)\n",
    "linked_list.push(15)\n",
    "linked_list.push(25)\n",
    "linked_list.push(\"head\")\n",
    "linked_list.printLinkedList()"
   ]
  },
  {
   "cell_type": "markdown",
   "metadata": {},
   "source": [
    "## Verilen Node'dan sonra yeni Node eklemek"
   ]
  },
  {
   "cell_type": "code",
   "execution_count": 13,
   "metadata": {},
   "outputs": [],
   "source": [
    "class LinkedList:\n",
    "    \n",
    "    def __init__(self):\n",
    "        \"\"\"\n",
    "        Head initializer\n",
    "        \"\"\"\n",
    "        self.head = None\n",
    "        \n",
    "    def push(self,new_data):\n",
    "        \"\"\"\n",
    "        Linkedlistin basına node ekler.\n",
    "        \"\"\"\n",
    "        # node yarat ve içerisindeki veriyi belirle\n",
    "        new_node = Node(new_data)\n",
    "        # Yeni node kendisinden sonraki nodeyi işaret etsin.\n",
    "        new_node.next = self.head\n",
    "        # Head yeni nodeyi işaret etsin\n",
    "        self.head = new_node\n",
    "\n",
    "    def insertAfter(self,prev_node,new_data):\n",
    "        \"\"\"\n",
    "        Verilen(prev_node) node'dan sonra yeni node ekle\n",
    "        \"\"\"\n",
    "        # prev_node var mi yok mu onu kontrol et\n",
    "        if prev_node is None:\n",
    "            print(\"Boyle bir node yok\")\n",
    "            return\n",
    "\n",
    "        # yeni node yarat ve icerisine veri koy\n",
    "        new_node = Node(new_data)\n",
    "\n",
    "        #prev_node next'ini prev_node next'i yap\n",
    "        prev_node.next = new_node \n",
    "    def printLinkedList(self):\n",
    "        \n",
    "        temp = self.head\n",
    "        print(\"Linked List :\")\n",
    "        while temp:\n",
    "            print(temp.data)\n",
    "            temp = temp.next"
   ]
  },
  {
   "cell_type": "code",
   "execution_count": 30,
   "metadata": {},
   "outputs": [
    {
     "name": "stdout",
     "output_type": "stream",
     "text": [
      "Linked List :\n",
      "head\n",
      "25\n",
      "15\n",
      "15\n",
      "tail\n"
     ]
    }
   ],
   "source": [
    "linked_list = LinkedList()\n",
    "linked_list.push(\"tail\")\n",
    "linked_list.push(15)\n",
    "linked_list.push(15)\n",
    "linked_list.push(25)\n",
    "linked_list.push(\"head\")\n",
    "linked_list.printLinkedList()"
   ]
  },
  {
   "cell_type": "code",
   "execution_count": 28,
   "metadata": {},
   "outputs": [
    {
     "name": "stdout",
     "output_type": "stream",
     "text": [
      "Linked List :\n",
      "head\n",
      "100\n"
     ]
    }
   ],
   "source": [
    "linked_list.insertAfter(linked_list.head,100)\n",
    "linked_list.printLinkedList()"
   ]
  },
  {
   "cell_type": "code",
   "execution_count": 31,
   "metadata": {},
   "outputs": [
    {
     "name": "stdout",
     "output_type": "stream",
     "text": [
      "Linked List :\n",
      "head\n",
      "25\n",
      "15\n",
      "insert\n"
     ]
    }
   ],
   "source": [
    "linked_list.insertAfter(linked_list.head.next.next,\"insert\")\n",
    "linked_list.printLinkedList()"
   ]
  },
  {
   "cell_type": "markdown",
   "metadata": {},
   "source": [
    "## Linked Listin Sonuna Node eklemek"
   ]
  },
  {
   "cell_type": "code",
   "execution_count": 32,
   "metadata": {},
   "outputs": [],
   "source": [
    "class LinkedList:\n",
    "    \n",
    "    def __init__(self):\n",
    "        \"\"\"\n",
    "        Head initializer\n",
    "        \"\"\"\n",
    "        self.head = None\n",
    "        \n",
    "    def push(self,new_data):\n",
    "        \"\"\"\n",
    "        Linkedlistin basına node ekler.\n",
    "        \"\"\"\n",
    "        # node yarat ve içerisindeki veriyi belirle\n",
    "        new_node = Node(new_data)\n",
    "        # Yeni node kendisinden sonraki nodeyi işaret etsin.\n",
    "        new_node.next = self.head\n",
    "        # Head yeni nodeyi işaret etsin\n",
    "        self.head = new_node\n",
    "\n",
    "    def insertAfter(self,prev_node,new_data):\n",
    "        \"\"\"\n",
    "        Verilen(prev_node) node'dan sonra yeni node ekle\n",
    "        \"\"\"\n",
    "        # prev_node var mi yok mu onu kontrol et\n",
    "        if prev_node is None:\n",
    "            print(\"Boyle bir node yok\")\n",
    "            return\n",
    "\n",
    "        # yeni node yarat ve icerisine veri koy\n",
    "        new_node = Node(new_data)\n",
    "\n",
    "        #prev_node next'ini prev_node next'i yap\n",
    "        prev_node.next = new_node\n",
    "    \n",
    "    def append(self,new_data):\n",
    "        \"\"\"\n",
    "        Linked list sonuna node eklemek\n",
    "        \"\"\"\n",
    "        # Yeni node yarat daha sonra icerisine new_data verisi depola\n",
    "        new_node = Node(new_data)\n",
    "\n",
    "        # Eger linked list bos ise yeni eklenen node head olsun\n",
    "        if self.head is None:\n",
    "            self.head = new_node\n",
    "            return\n",
    "        \n",
    "        # Linked list'in head'inden basla sonuna kadar git\n",
    "        last = self.head\n",
    "        while last.next:\n",
    "            last = last.next\n",
    "        \n",
    "        # last.next None. onun yerine new_node ekle\n",
    "        last.next = new_node\n",
    "\n",
    "\n",
    "    def printLinkedList(self):\n",
    "        \n",
    "        temp = self.head\n",
    "        print(\"Linked List :\")\n",
    "        while temp:\n",
    "            print(temp.data)\n",
    "            temp = temp.next"
   ]
  },
  {
   "cell_type": "code",
   "execution_count": 37,
   "metadata": {},
   "outputs": [
    {
     "name": "stdout",
     "output_type": "stream",
     "text": [
      "Linked List :\n",
      "head\n",
      "25\n",
      "15\n",
      "15\n",
      "tail\n"
     ]
    }
   ],
   "source": [
    "linked_list = LinkedList()\n",
    "linked_list.push(\"tail\")\n",
    "linked_list.push(15)\n",
    "linked_list.push(15)\n",
    "linked_list.push(25)\n",
    "linked_list.push(\"head\")\n",
    "linked_list.printLinkedList()"
   ]
  },
  {
   "cell_type": "code",
   "execution_count": 38,
   "metadata": {},
   "outputs": [
    {
     "name": "stdout",
     "output_type": "stream",
     "text": [
      "Linked List :\n",
      "head\n",
      "25\n",
      "15\n",
      "15\n",
      "tail\n",
      "sona eklenen elaman\n"
     ]
    }
   ],
   "source": [
    "linked_list.append(\"sona eklenen elaman\")\n",
    "linked_list.printLinkedList()"
   ]
  }
 ],
 "metadata": {
  "kernelspec": {
   "display_name": "Python 3.10.1 64-bit",
   "language": "python",
   "name": "python3"
  },
  "language_info": {
   "codemirror_mode": {
    "name": "ipython",
    "version": 3
   },
   "file_extension": ".py",
   "mimetype": "text/x-python",
   "name": "python",
   "nbconvert_exporter": "python",
   "pygments_lexer": "ipython3",
   "version": "3.10.1"
  },
  "vscode": {
   "interpreter": {
    "hash": "2accaec79680b62f2494b0ff1106ad30535df716b1791270a124178bc68c9159"
   }
  }
 },
 "nbformat": 4,
 "nbformat_minor": 4
}
