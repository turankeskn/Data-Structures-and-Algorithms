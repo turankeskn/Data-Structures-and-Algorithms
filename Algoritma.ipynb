{
 "cells": [
  {
   "cell_type": "markdown",
   "metadata": {},
   "source": [
    "## BİG-O ÖRNEKLERİ"
   ]
  },
  {
   "cell_type": "markdown",
   "metadata": {},
   "source": [
    "# O(1) Constant"
   ]
  },
  {
   "cell_type": "markdown",
   "metadata": {},
   "source": [
    "1) Constant çünkü input size'dan bağımsız.\n",
    "\n",
    "2) Eğer input size(boyut) çok büyük olsaydı yine sonuç değişmeyecekti."
   ]
  },
  {
   "cell_type": "code",
   "execution_count": 2,
   "metadata": {},
   "outputs": [],
   "source": [
    "def constant_big_o(liste):\n",
    "    print(liste[0]) # Boyutu büyütsekte 0'ıncı elemanı vereceği için constant dedik."
   ]
  },
  {
   "cell_type": "code",
   "execution_count": 3,
   "metadata": {},
   "outputs": [
    {
     "name": "stdout",
     "output_type": "stream",
     "text": [
      "-5\n"
     ]
    }
   ],
   "source": [
    "constant_big_o([-5,0,1,2,3,4,5,6])"
   ]
  },
  {
   "cell_type": "markdown",
   "metadata": {},
   "source": [
    "## O(n) Linear"
   ]
  },
  {
   "cell_type": "markdown",
   "metadata": {},
   "source": [
    "1) Bu fonsiyon linear zamanda çalışır. Yani algoritma içerisinden k operasyon sayısı input size(boyut) ile doğru orantılıdır.(Scale linearly with n (input size))\n",
    "\n",
    "2) Mesela eğer input size(boyut) 5 olsaydı, 5 kez print fonksiyonu çağrılacaktı. Yani input size(boyut) ile doğru orantılı.\n",
    "\n",
    "3) Yada input size(boyut) 2 olsaydı, 2 kez print fonksiyonu cağrılacaktı."
   ]
  },
  {
   "cell_type": "code",
   "execution_count": 4,
   "metadata": {},
   "outputs": [],
   "source": [
    "def linear_big_o(liste):\n",
    "    for deger in liste:\n",
    "        print(deger)"
   ]
  },
  {
   "cell_type": "code",
   "execution_count": 5,
   "metadata": {},
   "outputs": [
    {
     "name": "stdout",
     "output_type": "stream",
     "text": [
      "1\n",
      "2\n",
      "3\n",
      "4\n",
      "5\n"
     ]
    }
   ],
   "source": [
    "linear_big_o([1,2,3,4,5])"
   ]
  },
  {
   "cell_type": "markdown",
   "metadata": {},
   "source": [
    "## O(n**3) CUBİC"
   ]
  },
  {
   "cell_type": "markdown",
   "metadata": {},
   "source": [
    "1) Nested loop'lardan oluşan 3 tane for döngüsü kullanacağız.\n",
    "\n",
    "2) Yani n^3 işlem yapacağız.\n",
    "\n",
    "3) Mesela input size =3 için, 27 tane işlem yapacağız."
   ]
  },
  {
   "cell_type": "code",
   "execution_count": 6,
   "metadata": {},
   "outputs": [],
   "source": [
    "def cubic_big_O(liste):\n",
    "    \n",
    "    for item_1 in liste:\n",
    "        for item_2 in liste:\n",
    "            for item_3 in liste:\n",
    "                print(item_1,item_2,item_3)"
   ]
  },
  {
   "cell_type": "code",
   "execution_count": 7,
   "metadata": {},
   "outputs": [
    {
     "name": "stdout",
     "output_type": "stream",
     "text": [
      "1 1 1\n",
      "1 1 2\n",
      "1 1 3\n",
      "1 2 1\n",
      "1 2 2\n",
      "1 2 3\n",
      "1 3 1\n",
      "1 3 2\n",
      "1 3 3\n",
      "2 1 1\n",
      "2 1 2\n",
      "2 1 3\n",
      "2 2 1\n",
      "2 2 2\n",
      "2 2 3\n",
      "2 3 1\n",
      "2 3 2\n",
      "2 3 3\n",
      "3 1 1\n",
      "3 1 2\n",
      "3 1 3\n",
      "3 2 1\n",
      "3 2 2\n",
      "3 2 3\n",
      "3 3 1\n",
      "3 3 2\n",
      "3 3 3\n"
     ]
    }
   ],
   "source": [
    "cubic_big_O([1,2,3])"
   ]
  },
  {
   "cell_type": "markdown",
   "metadata": {},
   "source": [
    "## Calculating Scale of Big-O"
   ]
  },
  {
   "cell_type": "markdown",
   "metadata": {},
   "source": [
    "1) Insignificant constant\n",
    "\n",
    "2) Linear big-O input size ile doğru orantılı\n",
    "\n",
    "3) İlk örneğimde big-O = O(n)\n",
    "\n",
    "4) İkinci örneğimde big-O = O(2n)\n",
    "\n",
    "5) 2 burada insignificant constant olarak geçer ve bu sabit sayıyı ihtmal edebiliriz.\n",
    "\n",
    "6) Yani her iki durum içinde big-O = O(n)"
   ]
  },
  {
   "cell_type": "code",
   "execution_count": 8,
   "metadata": {},
   "outputs": [],
   "source": [
    "def linear_big_O(liste):\n",
    "    for deger in liste:\n",
    "        print(deger)"
   ]
  },
  {
   "cell_type": "code",
   "execution_count": 9,
   "metadata": {},
   "outputs": [
    {
     "name": "stdout",
     "output_type": "stream",
     "text": [
      "1\n",
      "3\n"
     ]
    }
   ],
   "source": [
    "linear_big_O([1,3]) # O(n)"
   ]
  },
  {
   "cell_type": "code",
   "execution_count": 10,
   "metadata": {},
   "outputs": [],
   "source": [
    "def linear_big_O_2(liste):\n",
    "    for deger in liste:\n",
    "        print(deger)\n",
    "    for deger in liste:\n",
    "        print(deger)"
   ]
  },
  {
   "cell_type": "code",
   "execution_count": 11,
   "metadata": {},
   "outputs": [
    {
     "name": "stdout",
     "output_type": "stream",
     "text": [
      "1\n",
      "3\n",
      "1\n",
      "3\n"
     ]
    }
   ],
   "source": [
    "linear_big_O_2([1,3]) # O(2n)"
   ]
  }
 ],
 "metadata": {
  "kernelspec": {
   "display_name": "Python 3.10.1 64-bit",
   "language": "python",
   "name": "python3"
  },
  "language_info": {
   "codemirror_mode": {
    "name": "ipython",
    "version": 3
   },
   "file_extension": ".py",
   "mimetype": "text/x-python",
   "name": "python",
   "nbconvert_exporter": "python",
   "pygments_lexer": "ipython3",
   "version": "3.10.1"
  },
  "vscode": {
   "interpreter": {
    "hash": "2accaec79680b62f2494b0ff1106ad30535df716b1791270a124178bc68c9159"
   }
  }
 },
 "nbformat": 4,
 "nbformat_minor": 4
}
