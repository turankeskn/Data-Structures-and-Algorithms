{
 "cells": [
  {
   "cell_type": "markdown",
   "metadata": {},
   "source": [
    "## Jump Search\n",
    "\n",
    "- Jump Search de binary search gibi sorted listelerde arama yapmak için kullanılır.\n",
    "- jump search sequaltial search de oldugu gibi tek tek arama yapmak yerine belli bir step size ile zıplayarak arama yapar.\n",
    "- Örneğin elimizde sıralı bir liste olsun [0,1,2,3,4,5,6,7,8]\n",
    "    - Search etmek istediğimiz sayi 5 olsun.\n",
    "    - arama 3 index atlayarak yapilsin.\n",
    "    - Step1: index 0'dan index 3'e bir atlama gerçekleşti ama bulunamadı.\n",
    "    - Step2: index 3'den index 6'ya bir atlama gerçekleşti ama bulunamadı.\n",
    "    - Step3: aranan değerin inded 6 da bulunan değerden küçük olduğu görüldü ve bu nedenle index 4 e atlandı.\n",
    "    - Step4: index 4 den itibaren aranan değeri bulana kadar linear search yapıldı\n",
    "    - Jump Search'ün time complexitysi Linear Search(O(n)) ve Binary Search(O(Log n)) arasindadir."
   ]
  },
  {
   "cell_type": "code",
   "execution_count": 9,
   "metadata": {},
   "outputs": [],
   "source": [
    "import math\n",
    "\n",
    "def JumpSearch(liste,value):\n",
    "    \"\"\"\n",
    "    Jump search for sorted array (sirali list)\n",
    "    \"\"\"\n",
    "\n",
    "    n = len(liste)\n",
    "    step = math.sqrt(n)\n",
    "\n",
    "    prev = 0\n",
    "\n",
    "    while liste[int(min(step,n)-1)] < value:\n",
    "        prev = step\n",
    "        step += math.sqrt(n)\n",
    "\n",
    "        if prev >= n:\n",
    "            return \"Bulunamadi\"\n",
    "    while liste[int(prev)] < value:\n",
    "        prev += 1\n",
    "\n",
    "        if prev == min(step,n):\n",
    "            return \"Bulunamadi\"\n",
    "    if liste[int(prev)] == value:\n",
    "        return int(prev)\n",
    "\n",
    "    return \"Bulunamadi\""
   ]
  },
  {
   "cell_type": "code",
   "execution_count": 10,
   "metadata": {},
   "outputs": [
    {
     "data": {
      "text/plain": [
       "10"
      ]
     },
     "execution_count": 10,
     "metadata": {},
     "output_type": "execute_result"
    }
   ],
   "source": [
    "liste = [0,1,2,3,4,5,6,7,8,18,21,44]\n",
    "JumpSearch(liste,21)"
   ]
  },
  {
   "cell_type": "code",
   "execution_count": 11,
   "metadata": {},
   "outputs": [
    {
     "data": {
      "text/plain": [
       "'Bulunamadi'"
      ]
     },
     "execution_count": 11,
     "metadata": {},
     "output_type": "execute_result"
    }
   ],
   "source": [
    "JumpSearch(liste,45)"
   ]
  }
 ],
 "metadata": {
  "kernelspec": {
   "display_name": "Python 3.10.1 64-bit",
   "language": "python",
   "name": "python3"
  },
  "language_info": {
   "codemirror_mode": {
    "name": "ipython",
    "version": 3
   },
   "file_extension": ".py",
   "mimetype": "text/x-python",
   "name": "python",
   "nbconvert_exporter": "python",
   "pygments_lexer": "ipython3",
   "version": "3.10.1"
  },
  "vscode": {
   "interpreter": {
    "hash": "2accaec79680b62f2494b0ff1106ad30535df716b1791270a124178bc68c9159"
   }
  }
 },
 "nbformat": 4,
 "nbformat_minor": 4
}
