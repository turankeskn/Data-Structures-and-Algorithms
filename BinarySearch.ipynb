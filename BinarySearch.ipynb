{
 "cells": [
  {
   "cell_type": "markdown",
   "metadata": {},
   "source": [
    "# BİNARY SEARCH\n",
    "\n",
    "- Sequantial(Linear) search aksine binary search sıralı arama yapmaz.\n",
    "- Binary Search ordered(sıralı) listelerde çok avantajlıdır.\n",
    "- Binary Search aramaya ortadan başlar. Eğer aradığı değer ortadaki değerden büyük ise bir sonraki aramayı listenin upper half kısmında yapar. Bu process böyle devam eder.\n",
    "- Binary Search divide and conquer(böl ve fethet) mantığı ile çalışır.\n",
    "- Binary Search Complexity of algorithm logarithmic big O yani O(log(N)) \"N\" bir listedeki eleman sayısı."
   ]
  },
  {
   "cell_type": "code",
   "execution_count": 1,
   "metadata": {},
   "outputs": [],
   "source": [
    "def binarysearch(liste,value):\n",
    "    \n",
    "    found = False\n",
    "    first_index = 0\n",
    "    last_index = len(liste) -1\n",
    "    \n",
    "    while first_index <= last_index and not found:\n",
    "        \n",
    "        middle_index = int((first_index+last_index)/2)\n",
    "        \n",
    "        if liste[middle_index] == value:\n",
    "            found = True\n",
    "        else:\n",
    "            if value < liste[middle_index]:\n",
    "                \n",
    "                last_index = middle_index -1\n",
    "                print(\"Lower Half\")\n",
    "            else:\n",
    "                first_index  = middle_index + 1\n",
    "                print(\"Upper Half\")\n",
    "    return found"
   ]
  },
  {
   "cell_type": "code",
   "execution_count": 2,
   "metadata": {},
   "outputs": [
    {
     "name": "stdout",
     "output_type": "stream",
     "text": [
      "Upper Half\n",
      "Lower Half\n"
     ]
    },
    {
     "data": {
      "text/plain": [
       "True"
      ]
     },
     "execution_count": 2,
     "metadata": {},
     "output_type": "execute_result"
    }
   ],
   "source": [
    "liste = [3,6,11,12,18,21,34]\n",
    "binarysearch(liste,18)"
   ]
  },
  {
   "cell_type": "code",
   "execution_count": null,
   "metadata": {},
   "outputs": [],
   "source": []
  }
 ],
 "metadata": {
  "kernelspec": {
   "display_name": "Python 3",
   "language": "python",
   "name": "python3"
  },
  "language_info": {
   "codemirror_mode": {
    "name": "ipython",
    "version": 3
   },
   "file_extension": ".py",
   "mimetype": "text/x-python",
   "name": "python",
   "nbconvert_exporter": "python",
   "pygments_lexer": "ipython3",
   "version": "3.7.6"
  }
 },
 "nbformat": 4,
 "nbformat_minor": 4
}
