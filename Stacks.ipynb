{
 "cells": [
  {
   "cell_type": "code",
   "execution_count": 11,
   "metadata": {},
   "outputs": [],
   "source": [
    "class Stack:\n",
    "    def __init__(self):\n",
    "        \"\"\"\n",
    "        İnitialize (constructor)\n",
    "        \"\"\"\n",
    "        self.items = []\n",
    "    \n",
    "    def isEmpty(self):\n",
    "        \"\"\"\n",
    "        Boş olup olmadıgına bakılır.\n",
    "        \"\"\"\n",
    "        return self.items == [] # booleans operator\n",
    "        \n",
    "    def push(self,item):\n",
    "        \"\"\"\n",
    "        Stackten Veri ekleme\n",
    "        \"\"\"\n",
    "        self.items.append(item)\n",
    "    \n",
    "    def pop(self):\n",
    "        \"\"\"\n",
    "        Stackten Veri çıkarma \n",
    "        \"\"\"\n",
    "        return self.items.pop()\n",
    "        \n",
    "    def top(self):\n",
    "        \"\"\"\n",
    "        En sonuncu elemana erişme\n",
    "        \"\"\"\n",
    "        return self.items[len(self.items)-1]\n",
    "    \n",
    "    def size(self):\n",
    "        \"\"\"\n",
    "        Eleman sayısına bakma\n",
    "        \"\"\"\n",
    "        return len(self.items)\n",
    "    \n",
    "    "
   ]
  },
  {
   "cell_type": "code",
   "execution_count": 15,
   "metadata": {},
   "outputs": [
    {
     "name": "stdout",
     "output_type": "stream",
     "text": [
      "True\n",
      "izmir\n",
      "ankara\n",
      "buca\n",
      "ankara\n"
     ]
    }
   ],
   "source": [
    "stack = Stack()\n",
    "\n",
    "print(stack.isEmpty())\n",
    "\n",
    "stack.push(\"izmir\")\n",
    "print(stack.top())\n",
    "\n",
    "stack.push(\"ankara\")\n",
    "print(stack.top())\n",
    "\n",
    "stack.push(\"buca\")\n",
    "print(stack.top())\n",
    "\n",
    "stack.pop()\n",
    "print(stack.top())"
   ]
  }
 ],
 "metadata": {
  "kernelspec": {
   "display_name": "Python 3",
   "language": "python",
   "name": "python3"
  },
  "language_info": {
   "codemirror_mode": {
    "name": "ipython",
    "version": 3
   },
   "file_extension": ".py",
   "mimetype": "text/x-python",
   "name": "python",
   "nbconvert_exporter": "python",
   "pygments_lexer": "ipython3",
   "version": "3.7.6"
  }
 },
 "nbformat": 4,
 "nbformat_minor": 4
}
