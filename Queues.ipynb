{
 "cells": [
  {
   "cell_type": "code",
   "execution_count": 11,
   "metadata": {},
   "outputs": [],
   "source": [
    "#İlk giren ilk cıkar.\n",
    "class Queue:\n",
    "    \n",
    "    def __init__(self):\n",
    "        \"\"\"\n",
    "        initialize\n",
    "        \"\"\"\n",
    "        self.items = []\n",
    "    def isEmpty(self):\n",
    "        \"\"\"\n",
    "        boş olup olmadığını kontrol et.\n",
    "        \"\"\"\n",
    "        return self.items==[]\n",
    "    \n",
    "    def enqueue(self,item):\n",
    "        \"\"\"\n",
    "        Queuese veri ekler.\n",
    "        \"\"\"\n",
    "        self.items.insert(0,item)\n",
    "        \n",
    "    def dequeue(self):\n",
    "        \"\"\"\n",
    "        Queuesten veri cıkartır\n",
    "        \"\"\"\n",
    "        return self.items.pop()\n",
    "        \n",
    "    def Last(self):\n",
    "        \"\"\"\n",
    "        Queuesteki ilk elemanı gösterir\n",
    "        \"\"\"\n",
    "        return self.items[0]\n",
    "        \n",
    "    def size(self):\n",
    "        \"\"\"\n",
    "        Eleman sayısı\n",
    "        \"\"\"\n",
    "        return len(self.items)\n",
    "        "
   ]
  },
  {
   "cell_type": "code",
   "execution_count": 12,
   "metadata": {},
   "outputs": [
    {
     "name": "stdout",
     "output_type": "stream",
     "text": [
      "True\n",
      "False\n",
      "2\n",
      "izmir\n"
     ]
    }
   ],
   "source": [
    "queue = Queue()\n",
    "\n",
    "print(queue.isEmpty())\n",
    "\n",
    "queue.enqueue(\"izmir\")\n",
    "print(queue.isEmpty())\n",
    "\n",
    "queue.enqueue(\"ankara\")\n",
    "print(queue.size())\n",
    "\n",
    "queue.enqueue(\"izmir\")\n",
    "print(queue.Last())\n"
   ]
  }
 ],
 "metadata": {
  "kernelspec": {
   "display_name": "Python 3.10.1 64-bit",
   "language": "python",
   "name": "python3"
  },
  "language_info": {
   "codemirror_mode": {
    "name": "ipython",
    "version": 3
   },
   "file_extension": ".py",
   "mimetype": "text/x-python",
   "name": "python",
   "nbconvert_exporter": "python",
   "pygments_lexer": "ipython3",
   "version": "3.10.1"
  },
  "vscode": {
   "interpreter": {
    "hash": "2accaec79680b62f2494b0ff1106ad30535df716b1791270a124178bc68c9159"
   }
  }
 },
 "nbformat": 4,
 "nbformat_minor": 4
}
